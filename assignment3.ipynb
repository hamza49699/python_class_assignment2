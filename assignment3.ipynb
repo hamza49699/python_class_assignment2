{
  "nbformat": 4,
  "nbformat_minor": 0,
  "metadata": {
    "colab": {
      "provenance": []
    },
    "kernelspec": {
      "name": "python3",
      "display_name": "Python 3"
    },
    "language_info": {
      "name": "python"
    }
  },
  "cells": [
    {
      "cell_type": "code",
      "execution_count": 1,
      "metadata": {
        "colab": {
          "base_uri": "https://localhost:8080/"
        },
        "id": "-2d2HD9xcb4B",
        "outputId": "bf9056f0-21c5-432d-a5c5-2a252ddaaa72"
      },
      "outputs": [
        {
          "output_type": "stream",
          "name": "stdout",
          "text": [
            "    *\n",
            "   ***\n",
            "  *****\n",
            " *******\n",
            "*********\n",
            " *******\n",
            "  *****\n",
            "   ***\n",
            "    *\n"
          ]
        }
      ],
      "source": [
        "def draw_diamond(rows):\n",
        "    # Upper pyramid\n",
        "    for i in range(1, rows + 1):\n",
        "        spaces = ' ' * (rows - i)\n",
        "        stars = '*' * (2 * i - 1)\n",
        "        print(spaces + stars)\n",
        "\n",
        "    # Lower inverted pyramid\n",
        "    for i in range(rows - 1, 0, -1):\n",
        "        spaces = ' ' * (rows - i)\n",
        "        stars = '*' * (2 * i - 1)\n",
        "        print(spaces + stars)\n",
        "\n",
        "# Set the number of rows for the diamond\n",
        "num_rows = 5\n",
        "\n",
        "# Call the function to draw the diamond\n",
        "draw_diamond(num_rows)\n"
      ]
    }
  ]
}