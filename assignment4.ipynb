{
  "nbformat": 4,
  "nbformat_minor": 0,
  "metadata": {
    "colab": {
      "provenance": []
    },
    "kernelspec": {
      "name": "python3",
      "display_name": "Python 3"
    },
    "language_info": {
      "name": "python"
    }
  },
  "cells": [
    {
      "cell_type": "code",
      "execution_count": 2,
      "metadata": {
        "colab": {
          "base_uri": "https://localhost:8080/"
        },
        "id": "D8xovLkfeHpw",
        "outputId": "edfba2e1-daf6-461b-bc91-70709a4027bc"
      },
      "outputs": [
        {
          "output_type": "stream",
          "name": "stdout",
          "text": [
            "Welcome to the Guessing Game!\n",
            "Guess a 3-digit number: 123\n",
            "❌ ❌ ❌\n",
            "Guess a 3-digit number: 456\n",
            "❌ ❌ ❌\n",
            "Guess a 3-digit number: 789\n",
            "👌 👍 ❌\n",
            "Guess a 3-digit number: 790\n",
            "👌 ❌ 👍\n",
            "Guess a 3-digit number: 798\n",
            "👌 ❌ 👌\n",
            "Guess a 3-digit number: 789\n",
            "👌 👍 ❌\n",
            "Guess a 3-digit number: 709\n",
            "👌 👌 ❌\n",
            "Guess a 3-digit number: 708\n",
            "👌 👌 👌\n",
            "You Got IT!\n"
          ]
        }
      ],
      "source": [
        "import random\n",
        "\n",
        "def generate_secret_number():\n",
        "    return str(random.randint(100, 999))\n",
        "\n",
        "def get_feedback(secret, guess):\n",
        "    feedback = []\n",
        "    for i in range(3):\n",
        "        if guess[i] == secret[i]:\n",
        "            feedback.append(\"👌\")  # Correct digit, correct place\n",
        "        elif guess[i] in secret:\n",
        "            feedback.append(\"👍\")  # Correct digit, wrong place\n",
        "        else:\n",
        "            feedback.append(\"❌\")  # Wrong digit\n",
        "    return \" \".join(feedback)\n",
        "\n",
        "def play_game():\n",
        "    secret_number = generate_secret_number()\n",
        "    attempts = 10\n",
        "    print(\"Welcome to the Guessing Game!\")\n",
        "\n",
        "    while attempts > 0:\n",
        "        guess = input(\"Guess a 3-digit number: \")\n",
        "        if len(guess) != 3 or not guess.isdigit():\n",
        "            print(\"Invalid input! Please enter a 3-digit number.\")\n",
        "            continue\n",
        "\n",
        "        feedback = get_feedback(secret_number, guess)\n",
        "        print(feedback)\n",
        "\n",
        "        if feedback == \"👌 👌 👌\":\n",
        "            print(\"You Got IT!\")\n",
        "            break\n",
        "\n",
        "        attempts -= 1\n",
        "        if attempts == 0:\n",
        "            print(f\"Game Over! The secret number was {secret_number}.\")\n",
        "\n",
        "# Start the game\n",
        "play_game()"
      ]
    }
  ]
}